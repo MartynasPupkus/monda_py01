{
 "cells": [
  {
   "cell_type": "markdown",
   "metadata": {},
   "source": [
    "# Nebūtini argumentai su numatytomis reikšmėmis ir konkretaus argumento perdavimas\n",
    "\n",
    "Kuriant funkcijas, galima padidinti lankstumą naudojant numatytuosius argumentus su numatytomis reikšmėmis. Ši funkcija leidžia nustatyti numatytąsias reikšmes kai kuriems parametrams, kurie gali būti praleisti, kviečiant funkciją.\n",
    "\n",
    "Pažiūrėkime į šį pavyzdžį:"
   ]
  },
  {
   "cell_type": "code",
   "execution_count": 1,
   "metadata": {},
   "outputs": [],
   "source": [
    "def pasisveikinimas(vardas, pasisveikinimas=\"Labas\"):\n",
    "    print(pasisveikinimas + \", \" + vardas)"
   ]
  },
  {
   "cell_type": "markdown",
   "metadata": {},
   "source": [
    "- Šioje funkcijoje '`vardas`' yra privalomas argumentas, o '`pasisveikinimas`' yra pasirenkamas argumentas, turintis numatytąją reikšmę \"`Labas`\". \n",
    "- Kviesdami funkciją, galite pateikti reikšmes abiem argumentams arba tik privalomajam. "
   ]
  },
  {
   "cell_type": "code",
   "execution_count": 2,
   "metadata": {},
   "outputs": [
    {
     "name": "stdout",
     "output_type": "stream",
     "text": [
      "Sveiki, Jonas\n",
      "Labas, Ona\n"
     ]
    }
   ],
   "source": [
    "pasisveikinimas(\"Jonas\", \"Sveiki\")  # Rezultatas: Sveiki, Jonas\n",
    "pasisveikinimas(\"Ona\")              # Rezultatas: Labas, Ona"
   ]
  },
  {
   "cell_type": "markdown",
   "metadata": {},
   "source": [
    "Dabar apsvarstykime kitą pavyzdį, susijusį su funkcija, kuri apskaičiuoja prekės kainą:"
   ]
  },
  {
   "cell_type": "code",
   "execution_count": 3,
   "metadata": {},
   "outputs": [],
   "source": [
    "def skaiciuoti_kaina(prekes_pavadinimas, kaina, nuolaida=0, mokestis=21):\n",
    "    kaina_su_nuolaida = kaina * (1 - nuolaida / 100)\n",
    "    kaina_su_mokesciu = kaina_su_nuolaida * (1 + mokestis / 100)\n",
    "    print(f\"{prekes_pavadinimas} - kaina su nuolaida ir mokesčiais: {kaina_su_mokesciu:.2f}€\")"
   ]
  },
  {
   "cell_type": "markdown",
   "metadata": {},
   "source": [
    "- Šioje funkcijoje '`prekes_pavadinimas`' ir '`kaina`' yra privalomi argumentai, o '`nuolaida`' ir '`mokestis`' yra pasirenkami argumentai su numatytosiomis reikšmėmis. \n",
    "- Jei nenurodysite reikšmių '`nuolaida`' ir '`mokestis`' funkcijos iškvietimo metu, bus naudojamos numatytosios reikšmės (`0` ir `21` atitinkamai). \n",
    "\n",
    "Pažiūrėkime, kaip tai veikia:"
   ]
  },
  {
   "cell_type": "code",
   "execution_count": 4,
   "metadata": {},
   "outputs": [
    {
     "name": "stdout",
     "output_type": "stream",
     "text": [
      "Obuolys - kaina su nuolaida ir mokesčiais: 0.95€\n",
      "Avokadas - kaina su nuolaida ir mokesčiais: 1.32€\n",
      "Pienas - kaina su nuolaida ir mokesčiais: 2.42€\n"
     ]
    }
   ],
   "source": [
    "skaiciuoti_kaina(\"Obuolys\", 1.00, 10, 5)\n",
    "skaiciuoti_kaina(\"Avokadas\", 1.20, mokestis=10)\n",
    "skaiciuoti_kaina(\"Pienas\", 2)"
   ]
  },
  {
   "cell_type": "markdown",
   "metadata": {},
   "source": [
    "- Ši funkcija skaičiuoja prekės galutinę kainą, atsižvelgdama į nuolaidas ir mokesčius. \n",
    "- Pasirenkami parametrai '`nuolaida`' ir '`mokestis`' yra aprūpinti numatytosiomis reikšmėmis, suteikiant lankstumą vartotojams, kurie gali nenustatyti šių reikšmių iš anksto."
   ]
  },
  {
   "cell_type": "markdown",
   "metadata": {},
   "source": [
    "### Greita užduotis 1\n",
    "\n",
    "Sukurkite Python funkciją, kuri apskaičiuotų pristatymo išlaidas pagal atstumą, svorį ir kainą už kilogramą.\n",
    "\n",
    "Argumentai:\n",
    "\n",
    "`distance` (privaloma): Atstumas kilometrais.\n",
    "`weight` (neprivalomas, numatytasis 1 kg): Svoris kilogramais.\n",
    "`rate_per_kg` (neprivalomas, numatytasis 5 €/kg): Kaina už kilogramą pristatymui.\n",
    "\n",
    "1. Funkcijoje apskaičiuokite pristatymo išlaidas kaip `distance * weight * rate_per_kg`.\n",
    "1. Atspausdinkite apskaičiuotas pristatymo išlaidas suapvalintas iki dviejų skaitmenų po kablelio, naudodami f-tekstą. Pavyzdžiui: \"Pristatymo kaina: {pristatymo_kaina:.2f} €.\"\n",
    "1. Patikrinkite funkciją iškvieskite bent trijose skirtingose situacijose, tiek su, tiek be svorio ir rate_per_kg nurodymo."
   ]
  },
  {
   "cell_type": "code",
   "execution_count": 5,
   "metadata": {},
   "outputs": [
    {
     "name": "stdout",
     "output_type": "stream",
     "text": [
      "Pirstatymo islaidos: 500.00 $.\n",
      "Pirstatymo islaidos: 2000.00 $.\n",
      "Pirstatymo islaidos: 900.00 $.\n",
      "Pirstatymo islaidos: 100.00 $.\n"
     ]
    }
   ],
   "source": [
    "# jusu kodo vieta\n",
    "def apskaiciuoti_pristatymo_islaidas(atstumas, svoris=1, mokestis_uz_kg=5):\n",
    "    pristatymo_islaidos = atstumas * svoris * mokestis_uz_kg\n",
    "    print(f'Pirstatymo islaidos: {pristatymo_islaidos:.2f} $.')\n",
    "\n",
    "apskaiciuoti_pristatymo_islaidas(100)\n",
    "apskaiciuoti_pristatymo_islaidas(200, 2)\n",
    "apskaiciuoti_pristatymo_islaidas(150, mokestis_uz_kg=6)\n",
    "apskaiciuoti_pristatymo_islaidas(50, 0.5, 4)"
   ]
  },
  {
   "cell_type": "markdown",
   "metadata": {},
   "source": [
    "---\n",
    "\n",
    "## Argumentų perdavimas pagal pavadinimą\n",
    "\n",
    "TODO: perrašyti pavyzdį ir QA2\n",
    "\n",
    "\n",
    "Argumentų perdavimas pagal pavadinimą reiškia nurodyti, kuri reikšmė eina į kurį argumentą, kviečiant funkciją.\n",
    "\n",
    "**Pavyzdys**:"
   ]
  },
  {
   "cell_type": "code",
   "execution_count": 10,
   "metadata": {},
   "outputs": [
    {
     "name": "stdout",
     "output_type": "stream",
     "text": [
      "0.6666666666666666\n"
     ]
    }
   ],
   "source": [
    "def calculate(operation, x, y):\n",
    "    if operation == \"add\":\n",
    "        return x + y\n",
    "    elif operation == \"subtract\":\n",
    "        return x - y\n",
    "    elif operation == \"multiply\":\n",
    "        return x * y\n",
    "    elif operation == \"divide\":\n",
    "        return x / y\n",
    "\n",
    "# Kviečiant calculate funkciją, išreikštinai pavadinkite argumentus\n",
    "result = calculate(x=2, y=3, operation=\"divide\")\n",
    "print(result)  # Rezultatas: 5"
   ]
  },
  {
   "cell_type": "markdown",
   "metadata": {},
   "source": [
    "- Šioje funkcijoje yra trys privalomi argumentai: `operation`, `x` ir `y`. \n",
    "- Kviečiant funkciją, galite nurodyti argumento `pavadinimą`, po to `==` ir priskirti norimą `reikšmę`, kurią norite perduoti funkcijai. \n",
    "- Tai užtikrina, kad kiekvienas argumentas būtų perduotas teisingai, išvengiant klaidų."
   ]
  },
  {
   "cell_type": "markdown",
   "metadata": {},
   "source": [
    "### Greita Užduotis 2\n",
    "\n",
    "Šios užduoties tikslas yra suprasti ir praktikuotis argumentų perdavimą pagal pavadinimą Python funkcijose.\n",
    "\n",
    "1. Sukurkite Python funkciją pavadinimu, kuri priima tris argumentus:\n",
    "\n",
    "- `operation` (neprivalomas \"add\"): matematinė operacija (\"`add`\" - sudėtis, \"`subtract`\" - atimtis, \"`multiply`\" - daugyba arba \"`divide`\" - dalyba).\n",
    "- `num1` (neprivalomas 2): Pirmas skaičius.\n",
    "- `num2` (neprivalomas 3): Antras skaičius.\n",
    "\n",
    "2. Funkcijoje vykdykite matematines operacijas, kurios nurodo \"`operation`\" argumentas, išsaugodami rezultatą kintamąjame.\n",
    "3. Atspausdinkite rezultatą su aprašančiu pranešimu. Pavyzdžiui, jei operation yra \"`add`\", pranešimas gali būti: \"sudėjus 2 ir 3 gausime 5.\"\n",
    "4. Patikrinkite funkciją su bent keturiais skirtingais kvietimais, nurodydami operaciją pagal pavadinimą.\n",
    "5. Patikrinkite funkciją nurodydami tik `num1` arba `num2`.\n",
    "6. Kas bus, jeigu funciją paleisite nenurodę jokių argumentų?\n",
    "\n",
    "```python\n",
    "\n",
    "# matematinės operacijos iššaukimo pavyzdys\n",
    "calculate(operation=\"add\", num1=2, num2=3)\n",
    "```"
   ]
  },
  {
   "cell_type": "code",
   "execution_count": 20,
   "metadata": {},
   "outputs": [
    {
     "name": "stdout",
     "output_type": "stream",
     "text": [
      "Rezultas pridedant 2 ir 3 yra 5.\n",
      "Rezultas pridedant 3 ir 3 yra 6.\n",
      "Rezultatas atimant 3 is 2 yra -1\n",
      "Rezultatas atimant 4 is 10 yra 6\n",
      "Rezultatas dauginant 2 su 3 yra 6\n",
      "Rezultatas dauginant 5 su 7 yra 35\n",
      "Rezultatas dalinant 2 is 3 yra 0.6666666666666666\n",
      "Rezultatas dalinant 15 is 3 yra 5.0\n",
      "Rezultas pridedant 7 ir 3 yra 10.\n",
      "Rezultas pridedant 2 ir 5 yra 7.\n"
     ]
    }
   ],
   "source": [
    "# jusu kodo vieta\n",
    "def skaiciuoti(operacija='prideti', numeris1=2, numeris2=3):\n",
    "    if operacija == 'prideti':\n",
    "        rezultatas = numeris1 + numeris2\n",
    "        print(f'Rezultas pridedant {numeris1} ir {numeris2} yra {rezultatas}.')\n",
    "    elif operacija == 'atimti':\n",
    "        rezultatas = numeris1 - numeris2\n",
    "        print(f'Rezultatas atimant {numeris2} is {numeris1} yra {rezultatas}')\n",
    "    elif operacija == 'daugyba':\n",
    "        rezultatas = numeris1 * numeris2\n",
    "        print(f'Rezultatas dauginant {numeris1} su {numeris2} yra {rezultatas}')\n",
    "    elif operacija == 'dalyba':\n",
    "        if numeris2 != 0:\n",
    "            rezultatas = numeris1 / numeris2\n",
    "            print(f'Rezultatas dalinant {numeris1} is {numeris2} yra {rezultatas}')\n",
    "        else:\n",
    "            print('Klaida: Dalyba is nulio nera galima')\n",
    "\n",
    "skaiciuoti(operacija='prideti')\n",
    "skaiciuoti(operacija='prideti', numeris1=3, numeris2=3)\n",
    "skaiciuoti(operacija='atimti')\n",
    "skaiciuoti(operacija='atimti', numeris1=10, numeris2=4)\n",
    "skaiciuoti(operacija='daugyba')\n",
    "skaiciuoti(operacija='daugyba', numeris1=5, numeris2=7)\n",
    "skaiciuoti(operacija='dalyba')\n",
    "skaiciuoti(operacija='dalyba', numeris1=15, numeris2=3)\n",
    "skaiciuoti(numeris1=7)\n",
    "skaiciuoti(numeris2=5)\n"
   ]
  },
  {
   "cell_type": "code",
   "execution_count": 22,
   "metadata": {},
   "outputs": [
    {
     "name": "stdout",
     "output_type": "stream",
     "text": [
      "5\n",
      "-1\n",
      "0.6666666666666666\n",
      "6\n",
      "18\n",
      "13\n",
      "5\n"
     ]
    }
   ],
   "source": [
    "def calculate(operation = \"add\", num1=2, num2=3):\n",
    "    if operation == \"add\":\n",
    "        return num1 + num2\n",
    "    elif operation == \"subtract\":\n",
    "        return num1 - num2\n",
    "    elif operation == \"multiply\":\n",
    "        return num1 * num2\n",
    "    elif operation == \"divide\":\n",
    "        return num1 / num2\n",
    "\n",
    "# Kviečiant calculate funkciją, išreikštinai pavadinkite argumentus\n",
    "result = calculate(operation=\"add\")\n",
    "print(result)\n",
    "result = calculate(operation=\"subtract\")\n",
    "print(result)\n",
    "result = calculate(operation=\"divide\")\n",
    "print(result)\n",
    "result = calculate(operation=\"multiply\")\n",
    "print(result)\n",
    "result = calculate(operation=\"multiply\", num1=6)\n",
    "print(result)\n",
    "result = calculate(operation=\"add\", num1=6, num2=7)\n",
    "print(result)\n",
    "result = calculate()\n",
    "print(result)"
   ]
  },
  {
   "cell_type": "markdown",
   "metadata": {},
   "source": [
    "## Papildoma užduotis\n",
    "\n",
    "Sukurti funkciją, grąžinančią asmeninę informacijos kortelės tekstą\n",
    "\n",
    "**Užduotis**: Šios užduoties tikslas yra sukurti Python funkciją, kuri sugeneruotų asmeninę informacijos kortelę su pasirinktais duomenimis.\n",
    "\n",
    "**Instrukcijos**:\n",
    "\n",
    "1. Sukurkite Python funkciją pavadinimu `generate_info_card`, kuri priima šiuos argumentus:\n",
    "\n",
    "- `name` (privaloma): Asmens `vardas`.\n",
    "- `age` (neprivalomas, numatytasis `25`): Asmens amžius.\n",
    "- `city` (neprivalomas, numatytasis \"`Unknown`\"): Asmens miestas.\n",
    "- `country` (neprivalomas, numatytasis \"`Unknown`\"): Asmens šalis.\n",
    "\n",
    "2. Funkcijoje naudokite pateiktus informacijos kortelę duomenis ir grąžinkite ją kaip tekstą.\n",
    "3. Atpausdinkite informacijos kortelę su suformatuotu pranešimu. Pavyzdžiui:\n",
    "\n",
    "```\n",
    "Asmens Kortelė:\n",
    "Vardas: John\n",
    "Amžius: 30\n",
    "Miestas: New York\n",
    "Šalis: USA\n",
    "```\n",
    "\n",
    "4. Patikrinkite funkciją su bent trimis skirtingais kvietimais, nurodydami kai kuriuos argumentus pagal pavadinimą, o kitus palikdami naudoti numatytąsias reikšmes.\n",
    "\n",
    "```python\n",
    "# iššaukimo pavyzdys\n",
    "generate_info_card(name=\"Alice\", age=28, city=\"London\", country=\"UK\")\n",
    "```"
   ]
  },
  {
   "cell_type": "code",
   "execution_count": 27,
   "metadata": {},
   "outputs": [
    {
     "name": "stdout",
     "output_type": "stream",
     "text": [
      "inofmracijos kortele:\n",
      "Vardas: Martynas\n",
      "Amzius: 28\n",
      "Miestas: Rokiskis\n",
      "Salis: Lietuva\n",
      "inofmracijos kortele:\n",
      "Vardas: Kazys\n",
      "Amzius: 25\n",
      "Miestas: nezinomas\n",
      "Salis: nezinoma\n",
      "inofmracijos kortele:\n",
      "Vardas: Antanas\n",
      "Amzius: 25\n",
      "Miestas: nezinomas\n",
      "Salis: Kazakstanas\n"
     ]
    }
   ],
   "source": [
    "# jusu kodo vieta\n",
    "def generuoti_informacijos_kortele(vardas, amzius=25, miestas='nezinomas', salis='nezinoma'):\n",
    "    informacijos_kortele = f'inofmracijos kortele:\\nVardas: {vardas}\\nAmzius: {amzius}\\nMiestas: {miestas}\\nSalis: {salis}'\n",
    "    print(informacijos_kortele)\n",
    "\n",
    "generuoti_informacijos_kortele(vardas='Martynas', amzius=28, miestas='Rokiskis', salis='Lietuva')\n",
    "generuoti_informacijos_kortele(vardas='Kazys')\n",
    "generuoti_informacijos_kortele(vardas='Antanas', salis='Kazakstanas')"
   ]
  },
  {
   "cell_type": "code",
   "execution_count": null,
   "metadata": {},
   "outputs": [],
   "source": []
  }
 ],
 "metadata": {
  "kernelspec": {
   "display_name": "venv",
   "language": "python",
   "name": "python3"
  },
  "language_info": {
   "codemirror_mode": {
    "name": "ipython",
    "version": 3
   },
   "file_extension": ".py",
   "mimetype": "text/x-python",
   "name": "python",
   "nbconvert_exporter": "python",
   "pygments_lexer": "ipython3",
   "version": "3.11.7"
  }
 },
 "nbformat": 4,
 "nbformat_minor": 2
}
