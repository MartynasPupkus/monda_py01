{
 "cells": [
  {
   "cell_type": "markdown",
   "metadata": {},
   "source": [
    "# Funkcijos aprašymo struktūra\n",
    "\n",
    "Python programavimo kalboje funkcijos aprašymo struktūra yra pagrindinė dalis, leidžianti mums kurti ir naudoti funkcijas. \n",
    "\n",
    "- Ji prasideda žodžiu `def`, kurį seka funkcijos `pavadinimas` ir `argumentai`, esantys skliaustuose.\n",
    "- Funkcijos veiksmai yra aprašomi įrėmintame bloke po funkcijos apibrėžimu. \n",
    "\n",
    "Kad būtų aiškiau, štai kelios svarbios dalys:\n",
    "\n",
    "- Žodis `def` praneša Python, kad mes aprašome funkciją.\n",
    "- `function_name` tai yra pavadinimas, kurį mes pasirenkame savo funkcijai. Jis turi atspindėti funkcijos tikslą.\n",
    "- `arguments` yra reikšmės, kurias mes paduosime funkcijai kaip įvestį. Tai kaip kintamieji, kurie bus naudojami funkcijos viduje.\n",
    "\n",
    "Norint suprasti, kaip tai veikia, pažiūrėkime į šį pavyzdį:"
   ]
  },
  {
   "cell_type": "code",
   "execution_count": 1,
   "metadata": {},
   "outputs": [
    {
     "name": "stdout",
     "output_type": "stream",
     "text": [
      "Sveiki, Jonas!\n"
     ]
    }
   ],
   "source": [
    "def sveikinti(vardas):\n",
    "    \"\"\"Ši funkcija sveikina asmenį, perduotą kaip argumentą.\"\"\"\n",
    "    print(f\"Sveiki, {vardas}!\")\n",
    "\n",
    "# Pavyzdžio Panaudojimas\n",
    "sveikinti(\"Jonas\")"
   ]
  },
  {
   "cell_type": "markdown",
   "metadata": {},
   "source": [
    "- Šiame pavyzdyje sveikinti yra funkcijos `pavadinimas`, ji priima vieną argumentą (`vardas`), ir pasveikina asmenį su nurodytu vardu. \n",
    "- Funkcija yra iškviesta su argumentu \"`Jonas`\", ir rezultatas yra atspausdinamas į konsolę."
   ]
  },
  {
   "cell_type": "markdown",
   "metadata": {},
   "source": [
    "Štai pavyzdys, kaip apibrėžti funkciją, kuri priima `du` `argumentus` ir juos spausdina į konsolę."
   ]
  },
  {
   "cell_type": "code",
   "execution_count": null,
   "metadata": {},
   "outputs": [],
   "source": [
    "def spausdinti_argumentus(vardas, amžius):\n",
    "    \"\"\"Ši funkcija priima du argumentus ir juos spausdina į konsolę.\"\"\"\n",
    "    print(f\"Vardas: {vardas}\")\n",
    "    print(f\"Amžius: {amžius}\")\n",
    "\n",
    "spausdinti_argumentus(\"Jonas\", 25)"
   ]
  },
  {
   "cell_type": "markdown",
   "metadata": {},
   "source": [
    "- Šiame pavyzdyje spausdinti_argumentus funkcija apibrėžta priimti `du` `argumentus` (`vardą` ir `amžių`) ir juos spausdina į konsolę.\n",
    "- Tada funkcija yra iškviesta su argumentais \"`Jonas`\" ir \"`25`\"."
   ]
  },
  {
   "cell_type": "markdown",
   "metadata": {},
   "source": [
    "# `Greitas uždavinys 1: Funkcijos aprašymo struktūra`\n",
    "\n",
    "**Instrukcijos**:\n",
    "\n",
    "1. Aprašykite funkciją pavadinimu `apskaiciuoti_plota`, kuri priima `du` parametrus, `ilgį` ir `plotį`, ir apskaičiuoja stačiakampio plotą.\n",
    "1. Atpausdinkite apskaičiuotą plotą."
   ]
  },
  {
   "cell_type": "code",
   "execution_count": 5,
   "metadata": {},
   "outputs": [
    {
     "ename": "SyntaxError",
     "evalue": "expected ':' (1212058520.py, line 2)",
     "output_type": "error",
     "traceback": [
      "\u001b[1;36m  Cell \u001b[1;32mIn[5], line 2\u001b[1;36m\u001b[0m\n\u001b[1;33m    def apskaiciuoti_plota(skaicius)\u001b[0m\n\u001b[1;37m                                    ^\u001b[0m\n\u001b[1;31mSyntaxError\u001b[0m\u001b[1;31m:\u001b[0m expected ':'\n"
     ]
    }
   ],
   "source": [
    "# jusu kodo vieta\n",
    "def apskaiciuoti_plota(skaicius)\n",
    "    return skaicius ** 2\n",
    "result = apskaiciuoti_plota: (5)\n",
    "print(result)"
   ]
  },
  {
   "cell_type": "markdown",
   "metadata": {},
   "source": [
    "## `if`, `elif`, `else` naudojimas Funkcijoje\n",
    "\n",
    "Galite naudoti sąlygas, tokias kaip `if`, `elif` arba `else` ir taip funkcijoje vykdyti skirtingus veiksmus pagal konkrečias sąlygas.\n",
    "\n",
    "**Štai pavyzdys**:"
   ]
  },
  {
   "cell_type": "code",
   "execution_count": null,
   "metadata": {},
   "outputs": [],
   "source": [
    "def ivertinti_pazymi(balas):\n",
    "    \"\"\"Ši funkcija įvertina ir atspausdina pažymį pagal pateiktą balą.\"\"\"\n",
    "    if balas >= 90:\n",
    "        print(\"A: Puiku\")\n",
    "    elif 80 <= balas < 90:\n",
    "        print(\"B: Geras\")\n",
    "    elif 70 <= balas < 80:\n",
    "        print(\"C: Patenkinamas\")\n",
    "    elif 60 <= balas < 70:\n",
    "        print(\"D: Reikia Pataisymų\")\n",
    "    else:\n",
    "        print(\"F: Nepavyko\")"
   ]
  },
  {
   "cell_type": "code",
   "execution_count": 20,
   "metadata": {},
   "outputs": [],
   "source": [
    "def pazimys(balai):\n",
    "    if balai >=90:\n",
    "        print('puiku')\n",
    "    elif 80 <= balai < 90:\n",
    "        print('geras')\n",
    "    elif 70 <= balai <80:\n",
    "        print('patenkinamas')\n",
    "    elif 60 <= balai <70:\n",
    "        print('reikia pataisyti')\n",
    "    else:\n",
    "        print(nepavyko)\n"
   ]
  },
  {
   "cell_type": "code",
   "execution_count": null,
   "metadata": {},
   "outputs": [],
   "source": [
    "# Pavyzdžio panaudojimas\n",
    "ivertinti_pazymi(75)"
   ]
  },
  {
   "cell_type": "markdown",
   "metadata": {},
   "source": [
    "- Šiame pavyzdyje `ivertinti_pazymi` funkcija priima balą kaip `argumentą` ir naudoja `if`, `elif` ir `else` pareiškas, kad nustatytų ir spausdintų atitinkamą pažymį pagal pateiktą balą. \n",
    "- Tada funkcija yra iškviesta su argumentu `75`."
   ]
  },
  {
   "cell_type": "markdown",
   "metadata": {},
   "source": [
    "**Antrasis pavyzdys**:"
   ]
  },
  {
   "cell_type": "code",
   "execution_count": 17,
   "metadata": {},
   "outputs": [],
   "source": [
    "def ar_lyginis_ar_nelyginis(skaicius):\n",
    "    \"\"\"Ši funkcija nustato, ar duotas skaičius yra lyginis arba nelyginis.\"\"\"\n",
    "    rezultatas = \"Lyginis\" if skaicius % 2 == 0 else \"Nelyginis\"\n",
    "    print(f\"Skaičius {skaicius} yra {rezultatas}.\")"
   ]
  },
  {
   "cell_type": "markdown",
   "metadata": {},
   "source": [
    "- Šiame pavyzdyje `ar_lyginis_ar_nelyginis` funkcija priima skaičių kaip `argumentą` ir naudoja sąlyginę išraišką (`if-else` vienoje eilutėje), kad patikrintų, ar skaičius yra `lyginis` arba `nelyginis`. \n",
    "- Tada rezultatas spausdinamas į konsolę. Funkcija yra iškviesta su argumentu `15`."
   ]
  },
  {
   "cell_type": "markdown",
   "metadata": {},
   "source": [
    "Trumpai tariant, Python funkcija apibrėžiama naudojant `def` pareiškimą, po kurio seka funkcijos `pavadinimas` ir jos `argumentai`. Funkcijoje galite naudoti sąlygas, kad atliktumėte skirtingus veiksmus pagal sąlygas, ir funkcijos gali priimti bet kokį kiekį argumentų arba visai jų neturėti."
   ]
  },
  {
   "cell_type": "markdown",
   "metadata": {},
   "source": [
    "# `Greitas uždavinys 2: Patikrinkite: Lyginis arba Nelyginis`\n",
    "\n",
    "1. Parašykite funkciją, kuri patikrintų, ar skaičius yra `lyginis` arba `nelyginis`\n",
    "1. Atspausdinkite atitinkamą pranešimą."
   ]
  },
  {
   "cell_type": "code",
   "execution_count": 21,
   "metadata": {},
   "outputs": [
    {
     "name": "stdout",
     "output_type": "stream",
     "text": [
      "14 is even.\n"
     ]
    }
   ],
   "source": [
    "def is_even_or_odd(number):\n",
    "    if number % 2 == 0:\n",
    "        print(number, \"is even.\")\n",
    "    else:\n",
    "        print(number, \"is odd.\")\n",
    "\n",
    "is_even_or_odd(14)"
   ]
  },
  {
   "cell_type": "markdown",
   "metadata": {},
   "source": [
    "# `Greitas uždavinys 3: Patikrinkite, ar Teigiamas`\n",
    "1. Parašykite funkciją is_positive(skaicius), kuri patikrintų, ar skaičius yra teigiamas\n",
    "1. Atspausdinkite atitinkamą pranešimą."
   ]
  },
  {
   "cell_type": "code",
   "execution_count": 6,
   "metadata": {},
   "outputs": [
    {
     "name": "stdout",
     "output_type": "stream",
     "text": [
      "[[2, 5], [-4, -1, -2]]\n"
     ]
    }
   ],
   "source": [
    "# jusu kodo vieta\n",
    "def separate_positive_and_negative(numbers):\n",
    "    positive = []\n",
    "    negative = []\n",
    "    for number in numbers:\n",
    "        if number >0:\n",
    "            positive.append(number)\n",
    "        else:\n",
    "            negative.append(number)\n",
    "    return [positive, negative]\n",
    "\n",
    "numbers = [2, -4, 5, -1, -2]\n",
    "result = separate_positive_and_negative(numbers)\n",
    "print(result)"
   ]
  },
  {
   "cell_type": "code",
   "execution_count": 22,
   "metadata": {},
   "outputs": [
    {
     "name": "stdout",
     "output_type": "stream",
     "text": [
      "-5 is not positive.\n"
     ]
    }
   ],
   "source": [
    "def is_positive(number):\n",
    "    if number > 0:\n",
    "        print(number, \"is positive.\")\n",
    "    else:\n",
    "        print(number, \"is not positive.\")\n",
    "\n",
    "is_positive(-5)"
   ]
  },
  {
   "cell_type": "code",
   "execution_count": 9,
   "metadata": {},
   "outputs": [
    {
     "name": "stdout",
     "output_type": "stream",
     "text": [
      "The number 1 is Positive.\n"
     ]
    }
   ],
   "source": [
    "def state(number):\n",
    "    check = \"Positive\" if number >= 0 else \"Negative\"\n",
    "    print(f\"The number {number} is {check}.\")\n",
    "\n",
    "state(1)"
   ]
  },
  {
   "cell_type": "markdown",
   "metadata": {},
   "source": [
    "# `Greitas uždavinys 4: Patikrinkite, ar Didesnis nei`\n",
    "\n",
    "1. Parašykite funkciją is_greater_than(skaicius, riba), kuri patikrintų, ar skaičius yra didesnis nei nurodyta riba\n",
    "1. Atspausdinkite atitinkamą pranešimą."
   ]
  },
  {
   "cell_type": "code",
   "execution_count": 11,
   "metadata": {},
   "outputs": [
    {
     "name": "stdout",
     "output_type": "stream",
     "text": [
      "10 is greater than 3.\n",
      "3 is not greater than 10.\n"
     ]
    }
   ],
   "source": [
    "# jusu kodo vieta\n",
    "def is_greater_then(number, limit):\n",
    "    if number > limit:\n",
    "        print(f\"{number} is greater than {limit}.\")\n",
    "    else:\n",
    "        print(f\"{number} is not greater than {limit}.\")\n",
    "\n",
    "is_greater_then(10, 3)\n",
    "is_greater_then(3, 10)"
   ]
  }
 ],
 "metadata": {
  "kernelspec": {
   "display_name": "venv",
   "language": "python",
   "name": "python3"
  },
  "language_info": {
   "codemirror_mode": {
    "name": "ipython",
    "version": 3
   },
   "file_extension": ".py",
   "mimetype": "text/x-python",
   "name": "python",
   "nbconvert_exporter": "python",
   "pygments_lexer": "ipython3",
   "version": "3.11.7"
  }
 },
 "nbformat": 4,
 "nbformat_minor": 2
}
