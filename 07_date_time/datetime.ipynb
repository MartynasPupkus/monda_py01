{
 "cells": [
  {
   "cell_type": "code",
   "execution_count": null,
   "metadata": {},
   "outputs": [],
   "source": [
    "from datetime import datetime"
   ]
  },
  {
   "cell_type": "code",
   "execution_count": null,
   "metadata": {},
   "outputs": [],
   "source": [
    "from datetime import datetime\n",
    "datos_laiko_formatas = '%Y-%m-%d %H val. %M min. %S sekundės'"
   ]
  },
  {
   "cell_type": "code",
   "execution_count": null,
   "metadata": {},
   "outputs": [],
   "source": [
    "dabar = datetime.now()\n",
    "print(dabar)"
   ]
  },
  {
   "cell_type": "code",
   "execution_count": null,
   "metadata": {},
   "outputs": [],
   "source": [
    "from datetime import datetime\n",
    "dabar.strftime(datos_laiko_formatas)"
   ]
  },
  {
   "cell_type": "code",
   "execution_count": null,
   "metadata": {},
   "outputs": [],
   "source": [
    "from datetime import datetime\n",
    "datos_formatas = '%c'\n",
    "print(dabar.strftime(datos_formatas))"
   ]
  },
  {
   "cell_type": "code",
   "execution_count": null,
   "metadata": {},
   "outputs": [],
   "source": [
    "from datetime import datetime\n",
    "ateities_tekstas = '2025-11-11 11 val. 11 min 11 sekundes'\n",
    "ateitis = datetime.strptime(ateities_tekstas, datos_laiko_formatas)\n",
    "print(ateitis)"
   ]
  },
  {
   "cell_type": "code",
   "execution_count": null,
   "metadata": {},
   "outputs": [],
   "source": [
    "import time"
   ]
  },
  {
   "cell_type": "code",
   "execution_count": 17,
   "metadata": {},
   "outputs": [
    {
     "name": "stdout",
     "output_type": "stream",
     "text": [
      "1705388167.0\n"
     ]
    }
   ],
   "source": [
    "from datetime import datetime\n",
    "import time\n",
    "dabarties_ts = time.mktime(datetime.now().timetuple())\n",
    "print(dabarties_ts)"
   ]
  },
  {
   "cell_type": "code",
   "execution_count": 18,
   "metadata": {},
   "outputs": [
    {
     "name": "stdout",
     "output_type": "stream",
     "text": [
      "2024-01-16 08:56:07\n"
     ]
    }
   ],
   "source": [
    "from datetime import datetime\n",
    "import time\n",
    "dto = datetime.fromtimestamp(dabarties_ts)\n",
    "print(dto)"
   ]
  },
  {
   "cell_type": "code",
   "execution_count": 20,
   "metadata": {},
   "outputs": [
    {
     "name": "stdout",
     "output_type": "stream",
     "text": [
      "2023-04-07 16:30:45\n"
     ]
    }
   ],
   "source": [
    "from datetime import datetime\n",
    "dt = datetime(2023, 4, 7, 16, 30, 45)\n",
    "print(dt)"
   ]
  },
  {
   "cell_type": "code",
   "execution_count": 21,
   "metadata": {},
   "outputs": [
    {
     "name": "stdout",
     "output_type": "stream",
     "text": [
      "2024-01-16 09:03:54.489673\n"
     ]
    }
   ],
   "source": [
    "dabar = datetime.now()\n",
    "print(dabar)"
   ]
  },
  {
   "cell_type": "code",
   "execution_count": 28,
   "metadata": {},
   "outputs": [
    {
     "name": "stdout",
     "output_type": "stream",
     "text": [
      "2023-04-07\n"
     ]
    }
   ],
   "source": [
    "import datetime\n",
    "d = date(2023, 4, 7)\n",
    "print(d)"
   ]
  },
  {
   "cell_type": "code",
   "execution_count": 31,
   "metadata": {},
   "outputs": [
    {
     "name": "stdout",
     "output_type": "stream",
     "text": [
      "2024-01-16\n"
     ]
    }
   ],
   "source": [
    "from datetime import date\n",
    "siandiena = date.today()\n",
    "print(siandiena)"
   ]
  },
  {
   "cell_type": "code",
   "execution_count": 35,
   "metadata": {},
   "outputs": [
    {
     "name": "stdout",
     "output_type": "stream",
     "text": [
      "Dabar:  2024-01-16 09:17:27.794529\n",
      "Po 5 dienu bus:  2024-01-21 09:17:27.794529\n",
      "Pries 2 valandas buvo: 2024-01-16 07:17:27.794529\n",
      "Skirtumas tarp datu:  -30 days, 0:00:00\n"
     ]
    }
   ],
   "source": [
    "from datetime import datetime, timedelta\n",
    "dabar = datetime.now()\n",
    "print('Dabar: ', dabar)\n",
    "\n",
    "po_5_dienu = dabar + timedelta(days=5)\n",
    "print('Po 5 dienu bus: ', po_5_dienu)\n",
    "\n",
    "pries_2_valandas = dabar - timedelta(hours=2)\n",
    "print('Pries 2 valandas buvo:', pries_2_valandas)\n",
    "\n",
    "date1 = datetime(2023, 4, 7)\n",
    "date2 = datetime(2023, 5, 7)\n",
    "skirtumas = date1 - date2\n",
    "print('Skirtumas tarp datu: ', skirtumas)"
   ]
  },
  {
   "cell_type": "code",
   "execution_count": 36,
   "metadata": {},
   "outputs": [
    {
     "name": "stdout",
     "output_type": "stream",
     "text": [
      "2023-04-12 18:30:00\n"
     ]
    }
   ],
   "source": [
    "from datetime import datetime\n",
    "\n",
    "date_object = datetime(2023, 4, 12, 18, 30, 0)\n",
    "format_string = '%Y-%m-%d %H:%M:%S'\n",
    "date_string = date_object.strftime(format_string)\n",
    "print(date_string)"
   ]
  },
  {
   "cell_type": "code",
   "execution_count": 43,
   "metadata": {},
   "outputs": [
    {
     "name": "stdout",
     "output_type": "stream",
     "text": [
      "41:34\n",
      "Liko 321 dienos (-ų) iki gimtadienio.\n"
     ]
    }
   ],
   "source": [
    "from datetime import datetime\n",
    "from datetime import date\n",
    "from datetime import time\n",
    "from datetime import timedelta\n",
    "\n",
    "dabar = datetime.now()\n",
    "format_string = '%M:%S'\n",
    "laikas = dabar.strftime(format_string)\n",
    "print(laikas)\n"
   ]
  },
  {
   "cell_type": "code",
   "execution_count": 53,
   "metadata": {},
   "outputs": [
    {
     "name": "stdout",
     "output_type": "stream",
     "text": [
      "Liko 321 dienos (-ų) iki gimtadienio.\n"
     ]
    }
   ],
   "source": [
    "from datetime import datetime\n",
    "\n",
    "def dienos_iki_gimtadienio(gimimo_data):\n",
    "    gimimo_data_format = datetime.strptime(gimimo_data, \"%Y-%m-%d\")\n",
    "    siandiena = datetime.now()\n",
    "    gimtadienio_data = gimimo_data_format.replace(year = siandiena.year)\n",
    "\n",
    "    if gimtadienio_data < siandiena:\n",
    "        gimtadienio_data = gimtadienio_data.replace(year = siandiena.year + 1)\n",
    "    \n",
    "    skirtumas = gimtadienio_data - siandiena\n",
    "    return skirtumas.days\n",
    "\n",
    "gimimo_data = '1995-12-03'\n",
    "print(f\"Liko {dienos_iki_gimtadienio(gimimo_data)} dienos (-ų) iki gimtadienio.\")"
   ]
  },
  {
   "cell_type": "code",
   "execution_count": 54,
   "metadata": {},
   "outputs": [
    {
     "name": "stdout",
     "output_type": "stream",
     "text": [
      "Liko 322 dienos (-ų) iki gimtadienio.\n"
     ]
    }
   ],
   "source": [
    "from datetime import datetime, date\n",
    "\n",
    "def dienos_iki_gimtadienio(gimimo_data):\n",
    "    gimimo_data_format = datetime.strptime(gimimo_data, \"%Y-%m-%d\")\n",
    "    siandiena = date.today()\n",
    "    siandiena = datetime(siandiena.year, siandiena.month, siandiena.day)\n",
    "    gimtadienio_data = gimimo_data_format.replace(year=siandiena.year)\n",
    "\n",
    "    if gimtadienio_data < siandiena:\n",
    "        gimtadienio_data = gimtadienio_data.replace(year=siandiena.year + 1)\n",
    "\n",
    "    skirtumas = gimtadienio_data - siandiena\n",
    "    return skirtumas.days\n",
    "\n",
    "gimimo_data = \"1995-12-03\"\n",
    "print(f\"Liko {dienos_iki_gimtadienio(gimimo_data)} dienos (-ų) iki gimtadienio.\")"
   ]
  },
  {
   "cell_type": "code",
   "execution_count": 45,
   "metadata": {},
   "outputs": [
    {
     "name": "stdout",
     "output_type": "stream",
     "text": [
      "Pridejus 48 valandas: 2024-01-18 09:16\n"
     ]
    }
   ],
   "source": [
    "def prideti_48_valandas(data_laikas):\n",
    "    format_string = '%Y-%m-%d %H:%M'\n",
    "    date_object = datetime.strptime(data_laikas, format_string)\n",
    "    naujas_date_object = date_object + timedelta(hours = 48)\n",
    "    naujas_data_laikas = naujas_date_object.strftime(format_string)\n",
    "    return naujas_data_laikas\n",
    "\n",
    "data_laikas = '2024-01-16 09:16'\n",
    "print(f'Pridejus 48 valandas: {prideti_48_valandas(data_laikas)}')"
   ]
  },
  {
   "cell_type": "code",
   "execution_count": 48,
   "metadata": {},
   "outputs": [
    {
     "name": "stdout",
     "output_type": "stream",
     "text": [
      "Laikotarpiu skirtumas dienoimis: 1197\n"
     ]
    }
   ],
   "source": [
    "from datetime import datetime\n",
    "\n",
    "def skirtumas_dienomis(timestamp1, timestamp2):\n",
    "    date_object1 = datetime.fromtimestamp(timestamp1)\n",
    "    date_object2 = datetime.fromtimestamp(timestamp2)\n",
    "    skirtumas = abs(date_object2 - date_object1)\n",
    "    return skirtumas.days\n",
    "\n",
    "timestamp1 = 1671395400\n",
    "timestamp2 = 1774890000\n",
    "print(f'Laikotarpiu skirtumas dienoimis: {skirtumas_dienomis(timestamp1, timestamp2)}')"
   ]
  },
  {
   "cell_type": "code",
   "execution_count": 49,
   "metadata": {},
   "outputs": [
    {
     "name": "stdout",
     "output_type": "stream",
     "text": [
      "Si data yra Antradienis\n"
     ]
    }
   ],
   "source": [
    "from datetime import datetime\n",
    "\n",
    "def savaites_diena(data):\n",
    "    format_string = '%Y-%m-%d'\n",
    "    date_object = datetime.strptime(data, format_string)\n",
    "    dienos = ['Pirmadienis', 'Antradienis', 'Treciadienis', 'Ketvirtadienis', 'Penktadienis', 'Sestadienis', 'Sekmadienis']\n",
    "    return dienos[date_object.weekday()]\n",
    "\n",
    "data = '2024-01-16'\n",
    "print(f'Si data yra {savaites_diena(data)}')"
   ]
  },
  {
   "cell_type": "code",
   "execution_count": 57,
   "metadata": {},
   "outputs": [
    {
     "name": "stdout",
     "output_type": "stream",
     "text": [
      "2024-01-16 09:14:50.369071\n"
     ]
    }
   ],
   "source": [
    "print(datetime.utcnow())"
   ]
  },
  {
   "cell_type": "code",
   "execution_count": null,
   "metadata": {},
   "outputs": [],
   "source": [
    "#kad veiktu 'zoneinfo', reikia pythono package tzdata venve, ji prideti galima ivedus terminate: pip install tzdata"
   ]
  },
  {
   "cell_type": "code",
   "execution_count": 65,
   "metadata": {},
   "outputs": [
    {
     "name": "stdout",
     "output_type": "stream",
     "text": [
      "2024-01-16 16:00:00+02:00\n"
     ]
    }
   ],
   "source": [
    "from zoneinfo import ZoneInfo\n",
    "paskaita_baigsis = datetime(2024, 1, 16, 16, tzinfo=ZoneInfo('Europe/Vilnius'))\n",
    "print(paskaita_baigsis)"
   ]
  },
  {
   "cell_type": "code",
   "execution_count": 61,
   "metadata": {},
   "outputs": [
    {
     "name": "stdout",
     "output_type": "stream",
     "text": [
      "Europe/Bucharest\n",
      "America/Nome\n",
      "Africa/Cairo\n",
      "America/Santiago\n",
      "Europe/Stockholm\n",
      "Africa/Malabo\n",
      "Poland\n",
      "Antarctica/Rothera\n",
      "Turkey\n",
      "Africa/Maseru\n",
      "Africa/Lusaka\n",
      "Africa/Freetown\n",
      "Australia/Lord_Howe\n",
      "Asia/Macao\n",
      "Asia/Qatar\n",
      "Asia/Vladivostok\n",
      "Antarctica/Casey\n",
      "America/Managua\n",
      "Asia/Harbin\n",
      "Africa/Algiers\n",
      "America/Nassau\n",
      "Europe/Luxembourg\n",
      "Pacific/Port_Moresby\n",
      "Europe/Bratislava\n",
      "Canada/Newfoundland\n",
      "Asia/Magadan\n",
      "America/Argentina/San_Juan\n",
      "Etc/Universal\n",
      "America/Bahia\n",
      "Etc/GMT+11\n",
      "America/Campo_Grande\n",
      "Pacific/Chuuk\n",
      "Europe/Minsk\n",
      "Atlantic/Madeira\n",
      "Universal\n",
      "Etc/GMT-4\n",
      "Africa/Tunis\n",
      "Etc/GMT+4\n",
      "Asia/Ulaanbaatar\n",
      "Asia/Urumqi\n",
      "Europe/Amsterdam\n",
      "Etc/Greenwich\n",
      "America/Sao_Paulo\n",
      "Africa/Banjul\n",
      "Pacific/Saipan\n",
      "Africa/Douala\n",
      "Asia/Dubai\n",
      "WET\n",
      "America/Winnipeg\n",
      "America/Maceio\n",
      "Pacific/Kiritimati\n",
      "Asia/Famagusta\n",
      "Europe/Busingen\n",
      "Pacific/Johnston\n",
      "Europe/Zurich\n",
      "America/Danmarkshavn\n",
      "America/Scoresbysund\n",
      "America/Argentina/San_Luis\n",
      "America/Noronha\n",
      "US/Samoa\n",
      "Europe/Volgograd\n",
      "Africa/Mbabane\n",
      "Africa/Nouakchott\n",
      "Etc/GMT-6\n",
      "Europe/Warsaw\n",
      "America/Argentina/Catamarca\n",
      "US/Indiana-Starke\n",
      "Asia/Kuala_Lumpur\n",
      "Europe/Athens\n",
      "Atlantic/Bermuda\n",
      "Brazil/East\n",
      "Europe/Belgrade\n",
      "Europe/Moscow\n",
      "America/Vancouver\n",
      "Africa/Luanda\n",
      "Atlantic/Faeroe\n",
      "America/Iqaluit\n",
      "Africa/Johannesburg\n",
      "Australia/Broken_Hill\n",
      "America/Montserrat\n",
      "Asia/Shanghai\n",
      "Asia/Phnom_Penh\n",
      "Africa/Casablanca\n",
      "Hongkong\n",
      "America/Panama\n",
      "America/Grenada\n",
      "America/Nuuk\n",
      "Asia/Pyongyang\n",
      "America/Argentina/La_Rioja\n",
      "Pacific/Wake\n",
      "Europe/Mariehamn\n",
      "CST6CDT\n",
      "America/Ensenada\n",
      "CET\n",
      "America/Yellowknife\n",
      "America/St_Vincent\n",
      "Israel\n",
      "GB-Eire\n",
      "America/Dominica\n",
      "America/Catamarca\n",
      "America/Louisville\n",
      "Africa/Gaborone\n",
      "Europe/Jersey\n",
      "US/Aleutian\n",
      "America/St_Barthelemy\n",
      "America/Marigot\n",
      "Pacific/Wallis\n",
      "Europe/Copenhagen\n",
      "Africa/Lagos\n",
      "Pacific/Marquesas\n",
      "Europe/Vatican\n",
      "America/Manaus\n",
      "Pacific/Nauru\n",
      "America/Miquelon\n",
      "America/Recife\n",
      "Asia/Manila\n",
      "Europe/Vilnius\n",
      "Africa/Bissau\n",
      "Asia/Irkutsk\n",
      "America/Phoenix\n",
      "Arctic/Longyearbyen\n",
      "Asia/Ho_Chi_Minh\n",
      "Asia/Qostanay\n",
      "EST\n",
      "Asia/Aqtobe\n",
      "Asia/Jakarta\n",
      "Europe/Gibraltar\n",
      "America/Juneau\n",
      "Canada/Central\n",
      "Asia/Istanbul\n",
      "Etc/UTC\n",
      "Europe/Saratov\n",
      "America/Argentina/Jujuy\n",
      "Asia/Singapore\n",
      "Asia/Colombo\n",
      "Asia/Tomsk\n",
      "Asia/Almaty\n",
      "Pacific/Pago_Pago\n",
      "America/Guyana\n",
      "Asia/Kuwait\n",
      "America/Buenos_Aires\n",
      "GB\n",
      "Asia/Sakhalin\n",
      "Asia/Anadyr\n",
      "Europe/Vienna\n",
      "Asia/Bangkok\n",
      "Africa/Dakar\n",
      "America/Cambridge_Bay\n",
      "Africa/Kampala\n",
      "Asia/Bishkek\n",
      "Africa/Nairobi\n",
      "Europe/Prague\n",
      "Greenwich\n",
      "Canada/Pacific\n",
      "Etc/GMT-7\n",
      "America/Argentina/Mendoza\n",
      "Pacific/Apia\n",
      "Australia/North\n",
      "America/Tortola\n",
      "Pacific/Tongatapu\n",
      "Asia/Tehran\n",
      "Pacific/Guadalcanal\n",
      "Asia/Yekaterinburg\n",
      "America/St_Lucia\n",
      "America/Blanc-Sablon\n",
      "Pacific/Pitcairn\n",
      "Europe/Uzhgorod\n",
      "Japan\n",
      "Africa/Kigali\n",
      "America/Merida\n",
      "Pacific/Majuro\n",
      "US/East-Indiana\n",
      "America/Kentucky/Monticello\n",
      "Libya\n",
      "Etc/GMT-11\n",
      "Asia/Aden\n",
      "Europe/Paris\n",
      "Europe/Rome\n",
      "America/Ciudad_Juarez\n",
      "Australia/Tasmania\n",
      "Africa/Ouagadougou\n",
      "Europe/Nicosia\n",
      "Asia/Novosibirsk\n",
      "Jamaica\n",
      "Atlantic/Faroe\n",
      "America/Porto_Acre\n",
      "America/Cordoba\n",
      "Africa/El_Aaiun\n",
      "Asia/Calcutta\n",
      "America/Indiana/Vevay\n",
      "America/Matamoros\n",
      "GMT-0\n",
      "America/El_Salvador\n",
      "Europe/Simferopol\n",
      "Asia/Dacca\n",
      "Europe/Sofia\n",
      "Brazil/Acre\n",
      "Europe/Oslo\n",
      "America/Anchorage\n",
      "America/Argentina/Tucuman\n",
      "Antarctica/Palmer\n",
      "Europe/Samara\n",
      "Africa/Brazzaville\n",
      "America/Havana\n",
      "Australia/LHI\n",
      "Asia/Ujung_Pandang\n",
      "Asia/Samarkand\n",
      "Asia/Seoul\n",
      "Africa/Harare\n",
      "Asia/Kabul\n",
      "Africa/Kinshasa\n",
      "Pacific/Enderbury\n",
      "America/St_Johns\n",
      "Europe/Lisbon\n",
      "Europe/Andorra\n",
      "America/Shiprock\n",
      "Pacific/Easter\n",
      "Etc/GMT+9\n",
      "Australia/Brisbane\n",
      "Europe/Guernsey\n",
      "Etc/GMT0\n",
      "US/Eastern\n",
      "Canada/Atlantic\n",
      "Europe/Belfast\n",
      "Etc/GMT+5\n",
      "America/Caracas\n",
      "Etc/GMT-9\n",
      "America/Goose_Bay\n",
      "Asia/Aqtau\n",
      "Europe/Vaduz\n",
      "America/Sitka\n",
      "America/Guadeloupe\n",
      "Europe/Monaco\n",
      "Atlantic/St_Helena\n",
      "NZ-CHAT\n",
      "Europe/Zaporozhye\n",
      "Asia/Baghdad\n",
      "America/North_Dakota/Center\n",
      "Europe/Zagreb\n",
      "America/Araguaina\n",
      "Australia/Victoria\n",
      "Europe/Tiraspol\n",
      "Asia/Ashgabat\n",
      "America/Indiana/Winamac\n",
      "America/Coral_Harbour\n",
      "Asia/Barnaul\n",
      "America/Argentina/Buenos_Aires\n",
      "America/Pangnirtung\n",
      "Africa/Abidjan\n",
      "MET\n",
      "Europe/Sarajevo\n",
      "Atlantic/Reykjavik\n",
      "Portugal\n",
      "America/Fort_Nelson\n",
      "Mexico/BajaSur\n",
      "Antarctica/Troll\n",
      "Africa/Juba\n",
      "Africa/Asmera\n",
      "Australia/Darwin\n",
      "Etc/GMT+2\n",
      "Etc/GMT-3\n",
      "Indian/Reunion\n",
      "America/Mexico_City\n",
      "Australia/Lindeman\n",
      "GMT\n",
      "America/Anguilla\n",
      "Indian/Mahe\n",
      "Pacific/Honolulu\n",
      "America/Bahia_Banderas\n",
      "America/Montevideo\n",
      "Singapore\n",
      "Asia/Ust-Nera\n",
      "Europe/Berlin\n",
      "Asia/Ulan_Bator\n",
      "Etc/GMT-2\n",
      "Eire\n",
      "NZ\n",
      "Europe/Riga\n",
      "Asia/Ashkhabad\n",
      "Asia/Jerusalem\n",
      "ROK\n",
      "Asia/Yerevan\n",
      "Asia/Katmandu\n",
      "Asia/Dushanbe\n",
      "Asia/Yangon\n",
      "America/Glace_Bay\n",
      "America/Santa_Isabel\n",
      "EET\n",
      "Europe/Ulyanovsk\n",
      "Africa/Conakry\n",
      "Asia/Taipei\n",
      "Antarctica/Macquarie\n",
      "America/Belem\n",
      "America/Detroit\n",
      "Kwajalein\n",
      "Canada/Mountain\n",
      "GMT+0\n",
      "Pacific/Fiji\n",
      "America/Port_of_Spain\n",
      "Europe/Kiev\n",
      "Brazil/West\n",
      "Atlantic/South_Georgia\n",
      "Asia/Yakutsk\n",
      "Canada/Saskatchewan\n",
      "Europe/Tallinn\n",
      "America/Kentucky/Louisville\n",
      "Atlantic/Cape_Verde\n",
      "America/Moncton\n",
      "W-SU\n",
      "America/Antigua\n",
      "Asia/Kuching\n",
      "Etc/GMT-14\n",
      "America/Cancun\n",
      "Etc/GMT-12\n",
      "Pacific/Kanton\n",
      "Indian/Antananarivo\n",
      "Asia/Gaza\n",
      "Europe/Tirane\n",
      "Europe/Malta\n",
      "Egypt\n",
      "Australia/Queensland\n",
      "Indian/Mauritius\n",
      "Pacific/Yap\n",
      "Canada/Eastern\n",
      "US/Mountain\n",
      "America/Argentina/Rio_Gallegos\n",
      "Asia/Atyrau\n",
      "Africa/Timbuktu\n",
      "America/North_Dakota/New_Salem\n",
      "Asia/Amman\n",
      "Australia/Eucla\n",
      "America/Puerto_Rico\n",
      "Asia/Kashgar\n",
      "Asia/Chita\n",
      "America/Adak\n",
      "Etc/GMT-8\n",
      "Asia/Hebron\n",
      "America/Indiana/Tell_City\n",
      "America/Tegucigalpa\n",
      "Asia/Choibalsan\n",
      "Australia/Adelaide\n",
      "Australia/Hobart\n",
      "Africa/Tripoli\n",
      "Africa/Maputo\n",
      "PST8PDT\n",
      "America/Swift_Current\n",
      "America/Inuvik\n",
      "America/Atikokan\n",
      "America/Tijuana\n",
      "Indian/Cocos\n",
      "Asia/Khandyga\n",
      "Europe/Dublin\n",
      "Antarctica/Davis\n",
      "Europe/Skopje\n",
      "Etc/GMT+8\n",
      "America/Dawson\n",
      "America/Guatemala\n",
      "Navajo\n",
      "America/Chicago\n",
      "America/Santarem\n",
      "EST5EDT\n",
      "Africa/Bujumbura\n",
      "Africa/Windhoek\n",
      "Australia/Perth\n",
      "America/Toronto\n",
      "Pacific/Ponape\n",
      "Asia/Tokyo\n",
      "America/Rio_Branco\n",
      "Etc/GMT-1\n",
      "Africa/Khartoum\n",
      "America/Boa_Vista\n",
      "Australia/NSW\n",
      "Australia/Melbourne\n",
      "America/Los_Angeles\n",
      "Pacific/Guam\n",
      "Etc/GMT+6\n",
      "Europe/Brussels\n",
      "America/Barbados\n",
      "Africa/Djibouti\n",
      "Mexico/General\n",
      "Asia/Saigon\n",
      "Etc/GMT+1\n",
      "America/Argentina/Ushuaia\n",
      "Pacific/Midway\n",
      "Etc/UCT\n",
      "Africa/Bamako\n",
      "Asia/Tbilisi\n",
      "Africa/Dar_es_Salaam\n",
      "Antarctica/DumontDUrville\n",
      "Etc/GMT\n",
      "Pacific/Tahiti\n",
      "Europe/Kirov\n",
      "America/Port-au-Prince\n",
      "Asia/Thimphu\n",
      "Pacific/Samoa\n",
      "America/Mendoza\n",
      "America/Boise\n",
      "Pacific/Kwajalein\n",
      "UTC\n",
      "America/Martinique\n",
      "Africa/Porto-Novo\n",
      "MST\n",
      "America/Knox_IN\n",
      "Asia/Dili\n",
      "Europe/Podgorica\n",
      "Europe/London\n",
      "Asia/Krasnoyarsk\n",
      "Africa/Addis_Ababa\n",
      "Africa/Asmara\n",
      "Africa/Monrovia\n",
      "Africa/Lome\n",
      "Atlantic/Jan_Mayen\n",
      "Australia/South\n",
      "Indian/Christmas\n",
      "America/Dawson_Creek\n",
      "Asia/Chongqing\n",
      "Africa/Sao_Tome\n",
      "America/Cayenne\n",
      "America/Asuncion\n",
      "America/Rainy_River\n",
      "Pacific/Noumea\n",
      "Indian/Chagos\n",
      "Etc/GMT-5\n",
      "Africa/Mogadishu\n",
      "Asia/Tashkent\n",
      "Pacific/Funafuti\n",
      "America/Whitehorse\n",
      "Etc/GMT+7\n",
      "Chile/EasterIsland\n",
      "Australia/Sydney\n",
      "America/Costa_Rica\n",
      "America/Guayaquil\n",
      "Asia/Brunei\n",
      "Asia/Chungking\n",
      "Africa/Ceuta\n",
      "Pacific/Tarawa\n",
      "America/St_Kitts\n",
      "Asia/Baku\n",
      "America/Regina\n",
      "America/Grand_Turk\n",
      "America/Halifax\n",
      "Asia/Macau\n",
      "America/Lower_Princes\n",
      "America/Mazatlan\n",
      "Atlantic/Canary\n",
      "America/Ojinaga\n",
      "Antarctica/Syowa\n",
      "Europe/Chisinau\n",
      "Pacific/Pohnpei\n",
      "Iceland\n",
      "Asia/Novokuznetsk\n",
      "HST\n",
      "Asia/Damascus\n",
      "MST7MDT\n",
      "America/Rankin_Inlet\n",
      "Australia/Yancowinna\n",
      "US/Hawaii\n",
      "America/Porto_Velho\n",
      "America/Bogota\n",
      "Chile/Continental\n",
      "America/Godthab\n",
      "Indian/Maldives\n",
      "America/Aruba\n",
      "America/Lima\n",
      "Pacific/Bougainville\n",
      "Asia/Omsk\n",
      "Asia/Pontianak\n",
      "US/Pacific\n",
      "Antarctica/Mawson\n",
      "Asia/Oral\n",
      "America/Jujuy\n",
      "America/Santo_Domingo\n",
      "GMT0\n",
      "Europe/Kaliningrad\n",
      "America/Indiana/Knox\n",
      "Australia/Canberra\n",
      "Atlantic/Azores\n",
      "America/Nipigon\n",
      "America/Menominee\n",
      "America/Argentina/ComodRivadavia\n",
      "Iran\n",
      "US/Central\n",
      "America/St_Thomas\n",
      "Pacific/Auckland\n",
      "Etc/Zulu\n",
      "America/Indianapolis\n",
      "Asia/Bahrain\n",
      "Antarctica/McMurdo\n",
      "Pacific/Truk\n",
      "Pacific/Efate\n",
      "Etc/GMT+3\n",
      "Etc/GMT-0\n",
      "Etc/GMT+0\n",
      "Africa/Blantyre\n",
      "America/Atka\n",
      "America/Resolute\n",
      "Europe/Budapest\n",
      "Asia/Dhaka\n",
      "Asia/Hong_Kong\n",
      "America/Fortaleza\n",
      "Asia/Jayapura\n",
      "America/Paramaribo\n",
      "America/Indiana/Vincennes\n",
      "Asia/Kathmandu\n",
      "Africa/Libreville\n",
      "Cuba\n",
      "Pacific/Fakaofo\n",
      "Asia/Srednekolymsk\n",
      "Antarctica/Vostok\n",
      "Brazil/DeNoronha\n",
      "US/Arizona\n",
      "Asia/Beirut\n",
      "America/North_Dakota/Beulah\n",
      "America/Edmonton\n",
      "America/Belize\n",
      "America/Cuiaba\n",
      "Etc/GMT-10\n",
      "PRC\n",
      "America/Montreal\n",
      "America/Yakutat\n",
      "Asia/Rangoon\n",
      "Australia/West\n",
      "Pacific/Rarotonga\n",
      "Pacific/Niue\n",
      "America/Metlakatla\n",
      "America/Cayman\n",
      "Europe/Madrid\n",
      "America/Indiana/Marengo\n",
      "America/Thunder_Bay\n",
      "America/Argentina/Salta\n",
      "Etc/GMT-13\n",
      "Asia/Vientiane\n",
      "America/Eirunepe\n",
      "Asia/Karachi\n",
      "Etc/GMT+10\n",
      "Africa/Niamey\n",
      "Europe/Kyiv\n",
      "Pacific/Palau\n",
      "America/Creston\n",
      "Pacific/Norfolk\n",
      "Africa/Ndjamena\n",
      "Pacific/Chatham\n",
      "America/La_Paz\n",
      "Asia/Hovd\n",
      "Asia/Kamchatka\n",
      "Europe/Helsinki\n",
      "Atlantic/Stanley\n",
      "Pacific/Gambier\n",
      "America/Punta_Arenas\n",
      "Europe/Astrakhan\n",
      "UCT\n",
      "Zulu\n",
      "Europe/San_Marino\n",
      "America/Virgin\n",
      "America/Rosario\n",
      "Asia/Makassar\n",
      "America/Jamaica\n",
      "Mexico/BajaNorte\n",
      "America/Indiana/Petersburg\n",
      "Pacific/Galapagos\n",
      "America/Thule\n",
      "Asia/Thimbu\n",
      "America/Monterrey\n",
      "Asia/Kolkata\n",
      "America/Indiana/Indianapolis\n",
      "Asia/Qyzylorda\n",
      "Canada/Yukon\n",
      "Indian/Mayotte\n",
      "Africa/Accra\n",
      "Africa/Bangui\n",
      "America/Hermosillo\n",
      "America/Kralendijk\n",
      "Europe/Ljubljana\n",
      "Australia/Currie\n",
      "America/Curacao\n",
      "Pacific/Kosrae\n",
      "Africa/Lubumbashi\n",
      "Europe/Istanbul\n",
      "US/Alaska\n",
      "Asia/Riyadh\n",
      "ROC\n",
      "America/Argentina/Cordoba\n",
      "Antarctica/South_Pole\n",
      "Asia/Nicosia\n",
      "Indian/Comoro\n",
      "Asia/Muscat\n",
      "America/Denver\n",
      "Indian/Kerguelen\n",
      "America/New_York\n",
      "US/Michigan\n",
      "Factory\n",
      "Europe/Isle_of_Man\n",
      "Australia/ACT\n",
      "America/Chihuahua\n",
      "Etc/GMT+12\n",
      "America/Fort_Wayne\n",
      "Asia/Tel_Aviv\n"
     ]
    }
   ],
   "source": [
    "from zoneinfo import available_timezones\n",
    "for zone in available_timezones():\n",
    "    print(zone)"
   ]
  },
  {
   "cell_type": "code",
   "execution_count": 62,
   "metadata": {},
   "outputs": [
    {
     "name": "stdout",
     "output_type": "stream",
     "text": [
      "Europe/Vilnius\n"
     ]
    }
   ],
   "source": [
    "print(paskaita_baigsis.tzinfo)"
   ]
  },
  {
   "cell_type": "code",
   "execution_count": 63,
   "metadata": {},
   "outputs": [
    {
     "name": "stdout",
     "output_type": "stream",
     "text": [
      "2024-01-16 11:27:46.076424+02:00\n"
     ]
    }
   ],
   "source": [
    "dabar_lietuvoje = datetime.utcnow().replace(tzinfo=ZoneInfo('UTC'))\n",
    "dabar_lietuvoje = dabar_lietuvoje.astimezone(ZoneInfo('Europe/Vilnius'))\n",
    "print(dabar_lietuvoje)"
   ]
  },
  {
   "cell_type": "code",
   "execution_count": 66,
   "metadata": {},
   "outputs": [
    {
     "name": "stdout",
     "output_type": "stream",
     "text": [
      "4:32:13.923576\n"
     ]
    }
   ],
   "source": [
    "iki_galo_liko = paskaita_baigsis - dabar_lietuvoje\n",
    "print(iki_galo_liko)"
   ]
  },
  {
   "cell_type": "code",
   "execution_count": 71,
   "metadata": {},
   "outputs": [
    {
     "name": "stdout",
     "output_type": "stream",
     "text": [
      "4:26:33.700088\n"
     ]
    }
   ],
   "source": [
    "print(paskaita_baigsis - datetime.utcnow().replace(tzinfo=ZoneInfo('UTC')))"
   ]
  },
  {
   "cell_type": "code",
   "execution_count": 77,
   "metadata": {},
   "outputs": [
    {
     "name": "stdout",
     "output_type": "stream",
     "text": [
      "2024-01-16 11:38:11.768452+02:00\n",
      "2024-01-16 11:38:11.768452+03:00\n"
     ]
    }
   ],
   "source": [
    "kitaip_dabar_lt = datetime.now().replace(tzinfo=ZoneInfo('Europe/Vilnius'))\n",
    "print(kitaip_dabar_lt)\n",
    "\n",
    "print(datetime.now().replace(tzinfo=ZoneInfo('Europe/Vilnius')))"
   ]
  },
  {
   "cell_type": "code",
   "execution_count": 80,
   "metadata": {},
   "outputs": [
    {
     "name": "stdout",
     "output_type": "stream",
     "text": [
      "America/Nome\n",
      "America/Santiago\n",
      "America/Managua\n",
      "America/Nassau\n",
      "America/Argentina/San_Juan\n",
      "America/Bahia\n",
      "America/Campo_Grande\n",
      "America/Sao_Paulo\n",
      "America/Winnipeg\n",
      "America/Maceio\n",
      "America/Danmarkshavn\n",
      "America/Scoresbysund\n",
      "America/Argentina/San_Luis\n",
      "America/Noronha\n",
      "America/Argentina/Catamarca\n",
      "America/Vancouver\n",
      "America/Iqaluit\n",
      "America/Montserrat\n",
      "America/Panama\n",
      "America/Grenada\n",
      "America/Nuuk\n",
      "America/Argentina/La_Rioja\n",
      "America/Ensenada\n",
      "America/Yellowknife\n",
      "America/St_Vincent\n",
      "America/Dominica\n",
      "America/Catamarca\n",
      "America/Louisville\n",
      "America/St_Barthelemy\n",
      "America/Marigot\n",
      "America/Manaus\n",
      "America/Miquelon\n",
      "America/Recife\n",
      "America/Phoenix\n",
      "America/Juneau\n",
      "America/Argentina/Jujuy\n",
      "America/Guyana\n",
      "America/Buenos_Aires\n",
      "America/Cambridge_Bay\n",
      "America/Argentina/Mendoza\n",
      "America/Tortola\n",
      "America/St_Lucia\n",
      "America/Blanc-Sablon\n",
      "America/Merida\n",
      "America/Kentucky/Monticello\n",
      "America/Ciudad_Juarez\n",
      "America/Porto_Acre\n",
      "America/Cordoba\n",
      "America/Indiana/Vevay\n",
      "America/Matamoros\n",
      "America/El_Salvador\n",
      "America/Anchorage\n",
      "America/Argentina/Tucuman\n",
      "America/Havana\n",
      "America/St_Johns\n",
      "America/Shiprock\n",
      "America/Caracas\n",
      "America/Goose_Bay\n",
      "America/Sitka\n",
      "America/Guadeloupe\n",
      "America/North_Dakota/Center\n",
      "America/Araguaina\n",
      "America/Indiana/Winamac\n",
      "America/Coral_Harbour\n",
      "America/Argentina/Buenos_Aires\n",
      "America/Pangnirtung\n",
      "America/Fort_Nelson\n",
      "America/Mexico_City\n",
      "America/Anguilla\n",
      "America/Bahia_Banderas\n",
      "America/Montevideo\n",
      "America/Glace_Bay\n",
      "America/Santa_Isabel\n",
      "America/Belem\n",
      "America/Detroit\n",
      "America/Port_of_Spain\n",
      "America/Kentucky/Louisville\n",
      "America/Moncton\n",
      "America/Antigua\n",
      "America/Cancun\n",
      "America/Argentina/Rio_Gallegos\n",
      "America/North_Dakota/New_Salem\n",
      "America/Puerto_Rico\n",
      "America/Adak\n",
      "America/Indiana/Tell_City\n",
      "America/Tegucigalpa\n",
      "America/Swift_Current\n",
      "America/Inuvik\n",
      "America/Atikokan\n",
      "America/Tijuana\n",
      "America/Dawson\n",
      "America/Guatemala\n",
      "America/Chicago\n",
      "America/Santarem\n",
      "America/Toronto\n",
      "America/Rio_Branco\n",
      "America/Boa_Vista\n",
      "America/Los_Angeles\n",
      "America/Barbados\n",
      "America/Argentina/Ushuaia\n",
      "America/Port-au-Prince\n",
      "America/Mendoza\n",
      "America/Boise\n",
      "America/Martinique\n",
      "America/Knox_IN\n",
      "America/Dawson_Creek\n",
      "America/Cayenne\n",
      "America/Asuncion\n",
      "America/Rainy_River\n",
      "America/Whitehorse\n",
      "America/Costa_Rica\n",
      "America/Guayaquil\n",
      "America/St_Kitts\n",
      "America/Regina\n",
      "America/Grand_Turk\n",
      "America/Halifax\n",
      "America/Lower_Princes\n",
      "America/Mazatlan\n",
      "America/Ojinaga\n",
      "America/Rankin_Inlet\n",
      "America/Porto_Velho\n",
      "America/Bogota\n",
      "America/Godthab\n",
      "America/Aruba\n",
      "America/Lima\n",
      "America/Jujuy\n",
      "America/Santo_Domingo\n",
      "America/Indiana/Knox\n",
      "America/Nipigon\n",
      "America/Menominee\n",
      "America/Argentina/ComodRivadavia\n",
      "America/St_Thomas\n",
      "America/Indianapolis\n",
      "America/Atka\n",
      "America/Resolute\n",
      "America/Fortaleza\n",
      "America/Paramaribo\n",
      "America/Indiana/Vincennes\n",
      "America/North_Dakota/Beulah\n",
      "America/Edmonton\n",
      "America/Belize\n",
      "America/Cuiaba\n",
      "America/Montreal\n",
      "America/Yakutat\n",
      "America/Metlakatla\n",
      "America/Cayman\n",
      "America/Indiana/Marengo\n",
      "America/Thunder_Bay\n",
      "America/Argentina/Salta\n",
      "America/Eirunepe\n",
      "America/Creston\n",
      "America/La_Paz\n",
      "America/Punta_Arenas\n",
      "America/Virgin\n",
      "America/Rosario\n",
      "America/Jamaica\n",
      "America/Indiana/Petersburg\n",
      "America/Thule\n",
      "America/Monterrey\n",
      "America/Indiana/Indianapolis\n",
      "America/Hermosillo\n",
      "America/Kralendijk\n",
      "America/Curacao\n",
      "America/Argentina/Cordoba\n",
      "America/Denver\n",
      "America/New_York\n",
      "America/Chihuahua\n",
      "America/Fort_Wayne\n"
     ]
    }
   ],
   "source": [
    "from zoneinfo import available_timezones\n",
    "\n",
    "america_time_zones = []\n",
    "\n",
    "for timezone in available_timezones():\n",
    "    if 'America' in timezone:\n",
    "        america_time_zones.append(timezone)\n",
    "\n",
    "for time_zone in america_time_zones:\n",
    "    print(time_zone)"
   ]
  },
  {
   "cell_type": "code",
   "execution_count": 84,
   "metadata": {},
   "outputs": [
    {
     "name": "stdout",
     "output_type": "stream",
     "text": [
      "Jusu laikas: 12:02:00, Europe/London\n",
      "Sydnejaus laikas: 22:02:00, Australia/Sydney\n",
      "Dubajaus laikas: 15:43:12, Asia/Dubai\n",
      "Vilniaus laikas: 13:26:00, Europe/Vilnius\n",
      "Londono laikas: 12:02:00, Europe/London\n",
      "New Yorko laikas: 07:02:00, America/New York\n",
      "Los Angeles laikas: 04:02:00, America/ Los Angeles\n"
     ]
    }
   ],
   "source": [
    "from datetime import datetime\n",
    "from zoneinfo import ZoneInfo\n",
    "\n",
    "ivestas_laikas = input('Iveskite laika formatu HH:MM(:SS), sekundes nera butinos')\n",
    "formatas = '%H:%M'\n",
    "vartotojo_laiko_zona = input('Iveskite laiko zona pvz.:\\\"America/Barbados\\\"')\n",
    "\n",
    "if len(ivestas_laikas) > 5:\n",
    "    formatas = '%H:%M'\n",
    "laikas = datetime.strptime(ivestas_laikas, formatas)\n",
    "\n",
    "sydney = laikas.replace(tzinfo=ZoneInfo(vartotojo_laiko_zona)).astimezone(ZoneInfo(\"Australia/Sydney\"))\n",
    "dubai = laikas.replace(tzinfo=ZoneInfo(vartotojo_laiko_zona)).astimezone(ZoneInfo(\"Asia/Dubai\"))\n",
    "vilnius = laikas.replace(tzinfo=ZoneInfo(vartotojo_laiko_zona)).astimezone(ZoneInfo(\"Europe/Vilnius\"))\n",
    "london = laikas.replace(tzinfo=ZoneInfo(vartotojo_laiko_zona)).astimezone(ZoneInfo(\"Europe/London\"))\n",
    "new_york = laikas.replace(tzinfo=ZoneInfo(vartotojo_laiko_zona)).astimezone(ZoneInfo(\"America/New_York\"))\n",
    "los_angeles = laikas.replace(tzinfo=ZoneInfo(vartotojo_laiko_zona)).astimezone(ZoneInfo(\"America/Los_Angeles\"))\n",
    "\n",
    "print(f\"\"\"Jusu laikas: {laikas.time()}, {vartotojo_laiko_zona}\n",
    "Sydnejaus laikas: {sydney.time()}, Australia/Sydney\n",
    "Dubajaus laikas: {dubai.time()}, Asia/Dubai\n",
    "Vilniaus laikas: {vilnius.time()}, Europe/Vilnius\n",
    "Londono laikas: {london.time()}, Europe/London\n",
    "New Yorko laikas: {new_york.time()}, America/New York\n",
    "Los Angeles laikas: {los_angeles.time()}, America/ Los Angeles\"\"\")"
   ]
  }
 ],
 "metadata": {
  "kernelspec": {
   "display_name": "venv",
   "language": "python",
   "name": "python3"
  },
  "language_info": {
   "codemirror_mode": {
    "name": "ipython",
    "version": 3
   },
   "file_extension": ".py",
   "mimetype": "text/x-python",
   "name": "python",
   "nbconvert_exporter": "python",
   "pygments_lexer": "ipython3",
   "version": "3.11.7"
  }
 },
 "nbformat": 4,
 "nbformat_minor": 2
}
