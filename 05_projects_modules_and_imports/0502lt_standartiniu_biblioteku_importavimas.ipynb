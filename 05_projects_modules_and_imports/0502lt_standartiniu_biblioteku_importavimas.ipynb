{
 "cells": [
  {
   "cell_type": "markdown",
   "metadata": {},
   "source": [
    "# Standartinių bibliotekų importavimas"
   ]
  },
  {
   "cell_type": "markdown",
   "metadata": {},
   "source": [
    "## import this - \"The Zen of Python\" (Python'o dvasia)"
   ]
  },
  {
   "cell_type": "markdown",
   "metadata": {},
   "source": [
    "\"The Zen of Python\" (liet. „Python'o Dvasia“) yra Python programavimo kalbos filosofiją atspindinti poema, kurią sukūrė Tim Peters. Norėdami ją pamatyti, įvykdykite šią komandą:"
   ]
  },
  {
   "cell_type": "code",
   "execution_count": 1,
   "metadata": {},
   "outputs": [
    {
     "name": "stdout",
     "output_type": "stream",
     "text": [
      "The Zen of Python, by Tim Peters\n",
      "\n",
      "Beautiful is better than ugly.\n",
      "Explicit is better than implicit.\n",
      "Simple is better than complex.\n",
      "Complex is better than complicated.\n",
      "Flat is better than nested.\n",
      "Sparse is better than dense.\n",
      "Readability counts.\n",
      "Special cases aren't special enough to break the rules.\n",
      "Although practicality beats purity.\n",
      "Errors should never pass silently.\n",
      "Unless explicitly silenced.\n",
      "In the face of ambiguity, refuse the temptation to guess.\n",
      "There should be one-- and preferably only one --obvious way to do it.\n",
      "Although that way may not be obvious at first unless you're Dutch.\n",
      "Now is better than never.\n",
      "Although never is often better than *right* now.\n",
      "If the implementation is hard to explain, it's a bad idea.\n",
      "If the implementation is easy to explain, it may be a good idea.\n",
      "Namespaces are one honking great idea -- let's do more of those!\n"
     ]
    }
   ],
   "source": [
    "import this"
   ]
  },
  {
   "cell_type": "markdown",
   "metadata": {},
   "source": [
    "Poemos pagrindiniai principai pabrėžia:\n",
    "\n",
    "- Aiškumas yra geriau už dviprasmiškumą.\n",
    "- Paprastumas viršija komplikacijas.\n",
    "- \"Dvigubai geriau\" nėra toks geras kaip \"gerai pakanka\".\n",
    "- Praktika yra svarbesnė už teoriją."
   ]
  },
  {
   "cell_type": "markdown",
   "metadata": {},
   "source": [
    "## `import random` - atsitiktinių skaičių generatoriaus funkcijos"
   ]
  },
  {
   "cell_type": "code",
   "execution_count": 2,
   "metadata": {},
   "outputs": [
    {
     "name": "stdout",
     "output_type": "stream",
     "text": [
      "0.38690978178422797\n",
      "1\n",
      "e\n"
     ]
    }
   ],
   "source": [
    "import random\n",
    "\n",
    "# generuoja atsitiktinį (float) skaičių tarp 0.0 ir 1.0.\n",
    "print(random.random())\n",
    "\n",
    "# generuoja atsitiktinį sveikąjį skaičių (int) tarp 1 ir 10 imtinai.\n",
    "print(random.randint(1, 10))\n",
    "\n",
    "# atsitiktinai pasirenka elementą iš sekos, tokių kaip sąrašas.\n",
    "my_list = [\"a\", \"b\", \"c\", \"d\", \"e\"]\n",
    "print(random.choice(my_list))"
   ]
  },
  {
   "cell_type": "markdown",
   "metadata": {},
   "source": [
    "### Greita Užduotis 1\n",
    "\n",
    "Parašykite Python funkciją, kuri atliktų šiuos veiksmus:\n",
    "\n",
    "1. Sugeneruokite 10 atsitiktinių sveikųjų skaičių tarp 1 ir 100.\n",
    "1. Atspausdinkite pradinį atsitiktinių skaičių sąrašą.\n",
    "1. Išrikiuokite sąrašą didėjančia tvarka.\n",
    "1. Atspausdinkite surikiuotą sąrašą."
   ]
  },
  {
   "cell_type": "code",
   "execution_count": 2,
   "metadata": {},
   "outputs": [
    {
     "name": "stdout",
     "output_type": "stream",
     "text": [
      "Visas sarasas [48, 82, 49, 49, 60, 96, 3, 82, 42, 16]\n",
      "Isrusiuotas sarasas [3, 16, 42, 48, 49, 49, 60, 82, 82, 96]\n"
     ]
    }
   ],
   "source": [
    "# jusu kodo vieta\n",
    "import random\n",
    "\n",
    "def spausdinti_ir_rusiuoti_atsitiktinius_skaicius():\n",
    "    atsitiktiniai_skaiciai = [random.randint(1, 100) for _ in range(10)]\n",
    "    print('Visas sarasas', atsitiktiniai_skaiciai)\n",
    "    atsitiktiniai_skaiciai.sort()\n",
    "    print('Isrusiuotas sarasas', atsitiktiniai_skaiciai)\n",
    "\n",
    "spausdinti_ir_rusiuoti_atsitiktinius_skaicius()"
   ]
  },
  {
   "cell_type": "code",
   "execution_count": 4,
   "metadata": {},
   "outputs": [
    {
     "name": "stdout",
     "output_type": "stream",
     "text": [
      "Visas sarasas [5]\n",
      "Isrusiuotas sarasas [5]\n",
      "Visas sarasas [5, 82]\n",
      "Isrusiuotas sarasas [5, 82]\n",
      "Visas sarasas [5, 82, 48]\n",
      "Isrusiuotas sarasas [5, 48, 82]\n",
      "Visas sarasas [5, 48, 82, 51]\n",
      "Isrusiuotas sarasas [5, 48, 51, 82]\n",
      "Visas sarasas [5, 48, 51, 82, 2]\n",
      "Isrusiuotas sarasas [2, 5, 48, 51, 82]\n",
      "Visas sarasas [2, 5, 48, 51, 82, 88]\n",
      "Isrusiuotas sarasas [2, 5, 48, 51, 82, 88]\n",
      "Visas sarasas [2, 5, 48, 51, 82, 88, 32]\n",
      "Isrusiuotas sarasas [2, 5, 32, 48, 51, 82, 88]\n",
      "Visas sarasas [2, 5, 32, 48, 51, 82, 88, 92]\n",
      "Isrusiuotas sarasas [2, 5, 32, 48, 51, 82, 88, 92]\n",
      "Visas sarasas [2, 5, 32, 48, 51, 82, 88, 92, 53]\n",
      "Isrusiuotas sarasas [2, 5, 32, 48, 51, 53, 82, 88, 92]\n",
      "Visas sarasas [2, 5, 32, 48, 51, 53, 82, 88, 92, 93]\n",
      "Isrusiuotas sarasas [2, 5, 32, 48, 51, 53, 82, 88, 92, 93]\n"
     ]
    }
   ],
   "source": [
    "import random\n",
    "\n",
    "def print_and_sort_random_numbers():\n",
    "    random_numbers = []\n",
    "    for _ in range(10):\n",
    "        random_numbers.append(random.randint(1, 100))\n",
    "        print('Visas sarasas', random_numbers)\n",
    "        random_numbers.sort()\n",
    "        print('Isrusiuotas sarasas', random_numbers)\n",
    "\n",
    "print_and_sort_random_numbers()"
   ]
  },
  {
   "cell_type": "markdown",
   "metadata": {},
   "source": [
    "---\n",
    "\n",
    "## `import math` - papildomos matematinės funkcijos"
   ]
  },
  {
   "cell_type": "markdown",
   "metadata": {},
   "source": [
    "Python'o `math` biblioteka suteikia prieigą prie papildomų matematinių funkcijų ir konstantų, tokių kaip π (pi) ir e. Štai keletas pavyzdžių:"
   ]
  },
  {
   "cell_type": "code",
   "execution_count": 7,
   "metadata": {},
   "outputs": [
    {
     "name": "stdout",
     "output_type": "stream",
     "text": [
      "['__doc__', '__loader__', '__name__', '__package__', '__spec__', 'acos', 'acosh', 'asin', 'asinh', 'atan', 'atan2', 'atanh', 'cbrt', 'ceil', 'comb', 'copysign', 'cos', 'cosh', 'degrees', 'dist', 'e', 'erf', 'erfc', 'exp', 'exp2', 'expm1', 'fabs', 'factorial', 'floor', 'fmod', 'frexp', 'fsum', 'gamma', 'gcd', 'hypot', 'inf', 'isclose', 'isfinite', 'isinf', 'isnan', 'isqrt', 'lcm', 'ldexp', 'lgamma', 'log', 'log10', 'log1p', 'log2', 'modf', 'nan', 'nextafter', 'perm', 'pi', 'pow', 'prod', 'radians', 'remainder', 'sin', 'sinh', 'sqrt', 'tan', 'tanh', 'tau', 'trunc', 'ulp']\n",
      "Return True if x is neither an infinity nor a NaN, and False otherwise.\n",
      "True\n",
      "1.0\n",
      "120\n",
      "3.0\n"
     ]
    }
   ],
   "source": [
    "import math\n",
    "# funkcija isfinite patikrina, ar skaičius yra suskaičiuojamas\n",
    "print(math.isfinite.__doc__)\n",
    "print(math.isfinite(2 ** 1000), 2 ** 1000)\n",
    "\n",
    "# funkcija apskaičiuoja sinuso reikšmę\n",
    "print(math.sin(math.pi / 2))\n",
    "\n",
    "# funkcija apskaičiuoja faktorialą\n",
    "print(math.factorial(5))\n",
    "\n",
    "# funkcija apskaičiuoja kvadratinę šaknį\n",
    "print(math.sqrt(9))"
   ]
  },
  {
   "cell_type": "code",
   "execution_count": 11,
   "metadata": {},
   "outputs": [
    {
     "name": "stdout",
     "output_type": "stream",
     "text": [
      "__doc__ This module provides access to the mathematical functions\n",
      "defined by the C standard.\n",
      "__loader__ <class '_frozen_importlib.BuiltinImporter'>\n",
      "__name__ math\n",
      "__package__ \n",
      "__spec__ ModuleSpec(name='math', loader=<class '_frozen_importlib.BuiltinImporter'>, origin='built-in')\n",
      "acos <built-in function acos>\n",
      "acosh <built-in function acosh>\n",
      "asin <built-in function asin>\n",
      "asinh <built-in function asinh>\n",
      "atan <built-in function atan>\n",
      "atan2 <built-in function atan2>\n",
      "atanh <built-in function atanh>\n",
      "cbrt <built-in function cbrt>\n",
      "ceil <built-in function ceil>\n",
      "comb <built-in function comb>\n",
      "copysign <built-in function copysign>\n",
      "cos <built-in function cos>\n",
      "cosh <built-in function cosh>\n",
      "degrees <built-in function degrees>\n",
      "dist <built-in function dist>\n",
      "e 2.718281828459045\n",
      "erf <built-in function erf>\n",
      "erfc <built-in function erfc>\n",
      "exp <built-in function exp>\n",
      "exp2 <built-in function exp2>\n",
      "expm1 <built-in function expm1>\n",
      "fabs <built-in function fabs>\n",
      "factorial <built-in function factorial>\n",
      "floor <built-in function floor>\n",
      "fmod <built-in function fmod>\n",
      "frexp <built-in function frexp>\n",
      "fsum <built-in function fsum>\n",
      "gamma <built-in function gamma>\n",
      "gcd <built-in function gcd>\n",
      "hypot <built-in function hypot>\n",
      "inf inf\n",
      "isclose <built-in function isclose>\n",
      "isfinite <built-in function isfinite>\n",
      "isinf <built-in function isinf>\n",
      "isnan <built-in function isnan>\n",
      "isqrt <built-in function isqrt>\n",
      "lcm <built-in function lcm>\n",
      "ldexp <built-in function ldexp>\n",
      "lgamma <built-in function lgamma>\n",
      "log <built-in function log>\n",
      "log10 <built-in function log10>\n",
      "log1p <built-in function log1p>\n",
      "log2 <built-in function log2>\n",
      "modf <built-in function modf>\n",
      "nan nan\n",
      "nextafter <built-in function nextafter>\n",
      "perm <built-in function perm>\n",
      "pi 3.141592653589793\n",
      "pow <built-in function pow>\n",
      "prod <built-in function prod>\n",
      "radians <built-in function radians>\n",
      "remainder <built-in function remainder>\n",
      "sin <built-in function sin>\n",
      "sinh <built-in function sinh>\n",
      "sqrt <built-in function sqrt>\n",
      "tan <built-in function tan>\n",
      "tanh <built-in function tanh>\n",
      "tau 6.283185307179586\n",
      "trunc <built-in function trunc>\n",
      "ulp <built-in function ulp>\n"
     ]
    }
   ],
   "source": [
    "import calendar\n",
    "library = calendar\n",
    "for library in math_capabilities:\n",
    "    print('name:', library, '\\nDocumentation', getattr(calendar, library).__doc__,'\\n-----')"
   ]
  },
  {
   "cell_type": "markdown",
   "metadata": {},
   "source": [
    "### Greita užduotis 2: Kauliukų žaidimas\n",
    "\n",
    "Sukurkite kauliukų žaidimą, kuris:\n",
    "\n",
    "- Sugeneruotų tris atsitiktinius skaičius nuo 1 iki 6\n",
    "- Jei vienas iš šių skaičių yra 5, atspausdinti „Pralaimėjai...“\n",
    "- Kitu atveju atspausdinti „Laimėjai!“\n",
    "- Patarimas: Naudokite ciklą"
   ]
  },
  {
   "cell_type": "code",
   "execution_count": 12,
   "metadata": {},
   "outputs": [
    {
     "name": "stdout",
     "output_type": "stream",
     "text": [
      "Trys skaiciai bus sugeneruoti.\n",
      "Jeigu bent vienas is skaiciu yra 5, jus pralaimejote!\n",
      "5\n",
      "Jus pralaimejote\n"
     ]
    }
   ],
   "source": [
    "import random\n",
    "\n",
    "print('Trys skaiciai bus sugeneruoti.')\n",
    "print('Jeigu bent vienas is skaiciu yra 5, jus pralaimejote!')\n",
    "\n",
    "for bandymas in range(3):\n",
    "    skaicius = random.randint(1, 6)\n",
    "    print(skaicius)\n",
    "    if skaicius == 5:\n",
    "        print('Jus pralaimejote')\n",
    "        break\n",
    "    else:\n",
    "        print('Jus laimejote!')"
   ]
  },
  {
   "cell_type": "code",
   "execution_count": 26,
   "metadata": {},
   "outputs": [
    {
     "name": "stdout",
     "output_type": "stream",
     "text": [
      "iskrito 5\n",
      "pralaimejai\n"
     ]
    }
   ],
   "source": [
    "import random\n",
    "\n",
    "attempts = 3\n",
    "while attempts > 0:\n",
    "    roll = random.randint(1, 6)\n",
    "    print(f'iskrito {roll}')\n",
    "    if roll == 5:\n",
    "        print('pralaimejai')\n",
    "        break\n",
    "    attempts -= 1\n",
    "else:\n",
    "    print('laimejai')"
   ]
  },
  {
   "cell_type": "markdown",
   "metadata": {},
   "source": [
    "---\n",
    "\n",
    "## `import calendar` - kalendoriaus funkcijos"
   ]
  },
  {
   "cell_type": "markdown",
   "metadata": {},
   "source": [
    "Python'o `calendar` biblioteka suteikia galimybes dirbti su kalendoriais ir atlikti tokias operacijas kaip keliamųjų metų tikrinimą arba savaitės dienos nustatymą pagal datą. Štai keletas pavyzdžių:"
   ]
  },
  {
   "cell_type": "code",
   "execution_count": 27,
   "metadata": {},
   "outputs": [
    {
     "name": "stdout",
     "output_type": "stream",
     "text": [
      "False\n",
      "Tuesday\n",
      "(5, 30)\n",
      "     April 2023\n",
      "Mo Tu We Th Fr Sa Su\n",
      "                1  2\n",
      " 3  4  5  6  7  8  9\n",
      "10 11 12 13 14 15 16\n",
      "17 18 19 20 21 22 23\n",
      "24 25 26 27 28 29 30\n",
      "\n"
     ]
    }
   ],
   "source": [
    "import calendar\n",
    "\n",
    "# Tikrinti, ar metai yra keliamieji\n",
    "print(calendar.isleap(2023))\n",
    "\n",
    "# Gaukite savaitės dienos pavadinimą pagal skaičių\n",
    "print(calendar.day_name[1]) # 'Tuesday'\n",
    "\n",
    "# Gaukite mėnesio dienų skaičių\n",
    "print(calendar.monthrange(2023, 4)) # (5, 30) - pirmoji balandžio diena yra šeštadienis (5), o balandžio mėnesyje yra 30 dienų\n",
    "\n",
    "# Atspausdinti mėnesio kalendorių\n",
    "print(calendar.month(2023, 4))"
   ]
  },
  {
   "cell_type": "markdown",
   "metadata": {},
   "source": [
    "`calendar` biblioteka turi daugiau funkcijų ir savybių, kurios padės jums dirbti su datomis ir laiku. Šie pavyzdžiai yra tik pradžia. Galite rasti daugiau informacijos apie `calendar` biblioteką [Python dokumentacijoje](https://docs.python.org/3/library/calendar.html)."
   ]
  },
  {
   "cell_type": "markdown",
   "metadata": {},
   "source": [
    "### Greita užduotis 3: `calendar` bibliotekos naudojimas"
   ]
  },
  {
   "cell_type": "markdown",
   "metadata": {},
   "source": [
    "Sukurkite Python funkciją, kuri vadinasi `print_month_calendar`.\n",
    "\n",
    "- Funkcija turėtų priimti du parametrus: metai ir menesis.\n",
    "- Funkcijos viduje, naudodami calendar modulį, sugeneruokite ir atspausdinkite nurodyto mėnesio kalendorių.\n",
    "- Apskaičiuokite ir atspausdinkite, kiek yra savaitgalio dienų (šeštadienių ir sekmadienių) nurodytame mėnesyje."
   ]
  },
  {
   "cell_type": "code",
   "execution_count": 31,
   "metadata": {},
   "outputs": [
    {
     "name": "stdout",
     "output_type": "stream",
     "text": [
      "     March 2024\n",
      "Mo Tu We Th Fr Sa Su\n",
      "             1  2  3\n",
      " 4  5  6  7  8  9 10\n",
      "11 12 13 14 15 16 17\n",
      "18 19 20 21 22 23 24\n",
      "25 26 27 28 29 30 31\n",
      "\n",
      "savaitgalio dienu skaicius siame menesyje yra: 10\n"
     ]
    }
   ],
   "source": [
    "# jusu kodo vieta\n",
    "import calendar\n",
    "\n",
    "def print_monthly_calendar_counting_weekends(year, month):\n",
    "    print(calendar.month(year, month))\n",
    "    \n",
    "    _, month_length = calendar.monthrange(year, month)\n",
    "\n",
    "    weekend_days = 0\n",
    "    for day in range(1, month_length + 1):\n",
    "        day_of_week = calendar.weekday(year, month, day)\n",
    "        if day_of_week == 5 or day_of_week == 6:\n",
    "            weekend_days += 1\n",
    "\n",
    "    print(f'savaitgalio dienu skaicius siame menesyje yra: {weekend_days}')\n",
    "\n",
    "print_monthly_calendar_counting_weekends(2024, 3)"
   ]
  },
  {
   "cell_type": "code",
   "execution_count": null,
   "metadata": {},
   "outputs": [],
   "source": [
    "import calendar\n",
    "\n",
    "def weekends_in_month(year, month):\n",
    "    print(calendar.month(year, month))\n",
    "    month_days = calendar.monthrange(year, month)[1]\n",
    "    weekend_days = 0\n",
    "    for"
   ]
  },
  {
   "cell_type": "markdown",
   "metadata": {},
   "source": [
    "### Bibliotekos funkcijų auto-dokumentacijos gavimas programatiškai"
   ]
  },
  {
   "cell_type": "code",
   "execution_count": null,
   "metadata": {},
   "outputs": [],
   "source": [
    "import calendar\n",
    "\n",
    "library = calendar\n",
    "capabilities = dir(library)\n",
    "for capability in capabilities:\n",
    "    print(\"name:\", capability, \"\\nDocumentation:\\n\", getattr(library, capability).__doc__, \"\\n----\")"
   ]
  }
 ],
 "metadata": {
  "kernelspec": {
   "display_name": "venv",
   "language": "python",
   "name": "python3"
  },
  "language_info": {
   "codemirror_mode": {
    "name": "ipython",
    "version": 3
   },
   "file_extension": ".py",
   "mimetype": "text/x-python",
   "name": "python",
   "nbconvert_exporter": "python",
   "pygments_lexer": "ipython3",
   "version": "3.11.7"
  }
 },
 "nbformat": 4,
 "nbformat_minor": 2
}
